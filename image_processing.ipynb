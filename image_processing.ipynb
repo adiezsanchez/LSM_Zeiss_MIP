{
 "cells": [
  {
   "cell_type": "code",
   "execution_count": 56,
   "metadata": {},
   "outputs": [],
   "source": [
    "from pathlib import Path\n",
    "import napari\n",
    "import tifffile\n",
    "import numpy as np\n"
   ]
  },
  {
   "cell_type": "code",
   "execution_count": 57,
   "metadata": {},
   "outputs": [
    {
     "name": "stdout",
     "output_type": "stream",
     "text": [
      "data\\4923_fl+\n",
      "{'CTRL': ['data\\\\4923_fl+\\\\4923.A1.20X.CP.H42.LSD1.UEA1.BCAT.CTRL.2.lsm']}\n",
      "{'CTRL': ['data\\\\4923_fl+\\\\4923.A1.20X.CP.H42.LSD1.UEA1.BCAT.CTRL.2.lsm', 'data\\\\4923_fl+\\\\4923.A2.20X.CP.H42.LSD1.UEA1.BCAT.CTRL.1.lsm']}\n",
      "{'CTRL': ['data\\\\4923_fl+\\\\4923.A1.20X.CP.H42.LSD1.UEA1.BCAT.CTRL.2.lsm', 'data\\\\4923_fl+\\\\4923.A2.20X.CP.H42.LSD1.UEA1.BCAT.CTRL.1.lsm'], 'TAM': ['data\\\\4923_fl+\\\\4923.B1.20X.CP.H42.LSD1.UEA1.BCAT.TAM.3.lsm']}\n",
      "{'CTRL': ['data\\\\4923_fl+\\\\4923.A1.20X.CP.H42.LSD1.UEA1.BCAT.CTRL.2.lsm', 'data\\\\4923_fl+\\\\4923.A2.20X.CP.H42.LSD1.UEA1.BCAT.CTRL.1.lsm'], 'TAM': ['data\\\\4923_fl+\\\\4923.B1.20X.CP.H42.LSD1.UEA1.BCAT.TAM.3.lsm', 'data\\\\4923_fl+\\\\4923.B2.20X.CP.H42.LSD1.UEA1.BCAT.TAM.4.lsm']}\n"
     ]
    },
    {
     "name": "stderr",
     "output_type": "stream",
     "text": [
      "WARNING: QWindowsWindow::setGeometry: Unable to set geometry 1086x653-1403-295 (frame: 1104x700-1412-333) on QWidgetWindow/\"_QtMainWindowClassWindow\" on \"\\\\.\\DISPLAY2\". Resulting geometry: 1360x818-1402-288 (frame: 1378x865-1411-326) margins: 9, 38, 9, 9 minimum size: 385x511 MINMAXINFO maxSize=0,0 maxpos=0,0 mintrack=403,558 maxtrack=0,0)\n",
      "WARNING: QWindowsWindow::setGeometry: Unable to set geometry 1086x653-1403-295 (frame: 1104x700-1412-333) on QWidgetWindow/\"_QtMainWindowClassWindow\" on \"\\\\.\\DISPLAY2\". Resulting geometry: 1360x818-1402-288 (frame: 1378x865-1411-326) margins: 9, 38, 9, 9 minimum size: 385x511 MINMAXINFO maxSize=0,0 maxpos=0,0 mintrack=403,558 maxtrack=0,0)\n"
     ]
    },
    {
     "name": "stdout",
     "output_type": "stream",
     "text": [
      "data\\4925_fl+\n",
      "{'CTRL': ['data\\\\4925_fl+\\\\4925.A1.20X.CP.H42.LSD1.UEA1.BCAT.CTRL.4.lsm']}\n",
      "{'CTRL': ['data\\\\4925_fl+\\\\4925.A1.20X.CP.H42.LSD1.UEA1.BCAT.CTRL.4.lsm', 'data\\\\4925_fl+\\\\4925.A3.20X.CP.H42.LSD1.UEA1.BCAT.CTRL.1.lsm']}\n",
      "{'CTRL': ['data\\\\4925_fl+\\\\4925.A1.20X.CP.H42.LSD1.UEA1.BCAT.CTRL.4.lsm', 'data\\\\4925_fl+\\\\4925.A3.20X.CP.H42.LSD1.UEA1.BCAT.CTRL.1.lsm'], 'TAM': ['data\\\\4925_fl+\\\\4925.B1.20X.CP.H42.LSD1.UEA1.BCAT.TAM.4.lsm']}\n",
      "{'CTRL': ['data\\\\4925_fl+\\\\4925.A1.20X.CP.H42.LSD1.UEA1.BCAT.CTRL.4.lsm', 'data\\\\4925_fl+\\\\4925.A3.20X.CP.H42.LSD1.UEA1.BCAT.CTRL.1.lsm'], 'TAM': ['data\\\\4925_fl+\\\\4925.B1.20X.CP.H42.LSD1.UEA1.BCAT.TAM.4.lsm', 'data\\\\4925_fl+\\\\4925.B3.20X.CP.H42.LSD1.UEA1.BCAT.TAM.2.lsm']}\n",
      "data\\4926_flfl\n",
      "{'CTRL': ['data\\\\4926_flfl\\\\4926.A1.20X.CP.H42.LSD1.UEA1.BCAT.CTRL.1.lsm']}\n",
      "{'CTRL': ['data\\\\4926_flfl\\\\4926.A1.20X.CP.H42.LSD1.UEA1.BCAT.CTRL.1.lsm', 'data\\\\4926_flfl\\\\4926.A4.20X.CP.H42.LSD1.UEA1.BCAT.CTRL.1.lsm']}\n",
      "{'CTRL': ['data\\\\4926_flfl\\\\4926.A1.20X.CP.H42.LSD1.UEA1.BCAT.CTRL.1.lsm', 'data\\\\4926_flfl\\\\4926.A4.20X.CP.H42.LSD1.UEA1.BCAT.CTRL.1.lsm'], 'TAM': ['data\\\\4926_flfl\\\\4926.B2.20X.CP.H42.LSD1.UEA1.BCAT.TAM.5.lsm']}\n",
      "{'CTRL': ['data\\\\4926_flfl\\\\4926.A1.20X.CP.H42.LSD1.UEA1.BCAT.CTRL.1.lsm', 'data\\\\4926_flfl\\\\4926.A4.20X.CP.H42.LSD1.UEA1.BCAT.CTRL.1.lsm'], 'TAM': ['data\\\\4926_flfl\\\\4926.B2.20X.CP.H42.LSD1.UEA1.BCAT.TAM.5.lsm', 'data\\\\4926_flfl\\\\4926.B4.20X.CP.H42.LSD1.UEA1.BCAT.TAM.1.lsm']}\n"
     ]
    }
   ],
   "source": [
    "parent_folder = Path(\"./data/\")\n",
    "\n",
    "# Initialize an empty list to store subfolder names\n",
    "subfolder_list = []\n",
    "\n",
    "# Iterate over subdirectories in the parent folder\n",
    "for subfolder in parent_folder.iterdir():\n",
    "    if subfolder.is_dir():\n",
    "        subfolder_list.append(subfolder.name)\n",
    "        \n",
    "for folder in subfolder_list:\n",
    "    # Define the directory containing your files\n",
    "    directory_path = parent_folder.joinpath(folder)\n",
    "    print(directory_path)\n",
    "\n",
    "    # Initialize a dictionary to store the grouped (per treatment) files\n",
    "    images_per_treatment = {}\n",
    "\n",
    "    # Iterate through the lsm files in the directory\n",
    "    for file_path in directory_path.glob(\"*.lsm\"):\n",
    "        # Get the filename without the extension\n",
    "        filename = file_path.stem\n",
    "\n",
    "        # Extract the treatment (CTRL or TAM) from the filename\n",
    "        exp_condition = filename.split(\".\")[-2]\n",
    "\n",
    "        # Check if the well_id exists in the dictionary, if not, create a new list\n",
    "        if exp_condition not in images_per_treatment:\n",
    "            images_per_treatment[exp_condition] = []\n",
    "        \n",
    "        # Append the file to the corresponding group\n",
    "        images_per_treatment[exp_condition].append(str(file_path))\n",
    "        print(images_per_treatment)\n",
    "        \n",
    "    viewer_ctrl = napari.Viewer(ndisplay=2)\n",
    "    for image in images_per_treatment[\"CTRL\"]:\n",
    "        file_path = Path(image)\n",
    "        filename = file_path.stem\n",
    "        \n",
    "        # Read the image file\n",
    "        img = tifffile.imread(image)\n",
    "\n",
    "        # Extract the stack containing the UEA_1 channel (2)\n",
    "        uea_1_channel_stack = img[:,2,:,:]\n",
    "\n",
    "        # Perform maximum intensity projection\n",
    "        mip = np.max(uea_1_channel_stack, axis=0)\n",
    "\n",
    "        # Visualize it using napari\n",
    "        \n",
    "        viewer_ctrl.add_image(mip, name=filename)\n",
    "        viewer_ctrl.layers[filename].contrast_limits=(15, 50)\n",
    "        \n",
    "    viewer_tam = napari.Viewer(ndisplay=2)\n",
    "    for image in images_per_treatment[\"TAM\"]:\n",
    "        file_path = Path(image)\n",
    "        filename = file_path.stem\n",
    "        \n",
    "        # Read the image file\n",
    "        img = tifffile.imread(image)\n",
    "\n",
    "        # Extract the stack containing the UEA_1 channel (2)\n",
    "        uea_1_channel_stack = img[:,2,:,:]\n",
    "\n",
    "        # Perform maximum intensity projection\n",
    "        mip = np.max(uea_1_channel_stack, axis=0)\n",
    "\n",
    "        # Visualize it using napari\n",
    "        viewer_tam.add_image(mip, name=filename)\n",
    "        viewer_tam.layers[filename].contrast_limits=(15, 50)\n",
    "        "
   ]
  }
 ],
 "metadata": {
  "kernelspec": {
   "display_name": "dbn39",
   "language": "python",
   "name": "python3"
  },
  "language_info": {
   "codemirror_mode": {
    "name": "ipython",
    "version": 3
   },
   "file_extension": ".py",
   "mimetype": "text/x-python",
   "name": "python",
   "nbconvert_exporter": "python",
   "pygments_lexer": "ipython3",
   "version": "3.9.18"
  }
 },
 "nbformat": 4,
 "nbformat_minor": 2
}
